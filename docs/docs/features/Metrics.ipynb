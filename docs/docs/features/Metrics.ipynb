{
 "cells": [
  {
   "cell_type": "markdown",
   "metadata": {},
   "source": [
    "When you import Sweatpy with `import sweat` all pandas data frames and series have a `sweat` accessor available that allows you to do things like:\n",
    "```python\n",
    "df.sweat.mean_max(\"column name\")\n",
    "```\n",
    "\n",
    "...or\n",
    "\n",
    "```python\n",
    "df[\"power\"].sweat.mean_max()\n",
    "```\n",
    "\n",
    "See below for more examples.\n",
    "The sweat accessor will raise an `AttributeError` when the data frame or series content is not valid.\n",
    "\n",
    "Please note that the sweat accessor for data frames and series are *similar* but not *identical*.\n",
    "\n",
    "Most methods on the sweat accessor are also available for usage outside data frames."
   ]
  },
  {
   "cell_type": "markdown",
   "metadata": {},
   "source": [
    "## Mean max"
   ]
  },
  {
   "cell_type": "code",
   "execution_count": 1,
   "metadata": {},
   "outputs": [
    {
     "data": {
      "text/plain": [
       "0 days 00:00:01    1022.000000\n",
       "0 days 00:00:02     980.500000\n",
       "0 days 00:00:03     928.666667\n",
       "0 days 00:00:04     847.750000\n",
       "0 days 00:00:05     721.600000\n",
       "                      ...     \n",
       "0 days 02:19:12     219.201748\n",
       "0 days 02:19:13     219.175506\n",
       "0 days 02:19:14     219.149270\n",
       "0 days 02:19:15     219.123040\n",
       "0 days 02:19:16     219.096817\n",
       "Name: mean_max_power, Length: 8356, dtype: float64"
      ]
     },
     "execution_count": 1,
     "metadata": {},
     "output_type": "execute_result"
    }
   ],
   "source": [
    "import sweat\n",
    "\n",
    "example = sweat.examples(path=\"4078723797.fit\")\n",
    "data = sweat.read_fit(example.path)\n",
    "\n",
    "mmp = data[\"power\"].sweat.mean_max()\n",
    "mmp"
   ]
  },
  {
   "cell_type": "markdown",
   "metadata": {},
   "source": [
    "Or for multiple columns at once:"
   ]
  },
  {
   "cell_type": "code",
   "execution_count": 2,
   "metadata": {
    "scrolled": false
   },
   "outputs": [
    {
     "data": {
      "text/html": [
       "<div>\n",
       "<style scoped>\n",
       "    .dataframe tbody tr th:only-of-type {\n",
       "        vertical-align: middle;\n",
       "    }\n",
       "\n",
       "    .dataframe tbody tr th {\n",
       "        vertical-align: top;\n",
       "    }\n",
       "\n",
       "    .dataframe thead th {\n",
       "        text-align: right;\n",
       "    }\n",
       "</style>\n",
       "<table border=\"1\" class=\"dataframe\">\n",
       "  <thead>\n",
       "    <tr style=\"text-align: right;\">\n",
       "      <th></th>\n",
       "      <th>mean_max_power</th>\n",
       "      <th>mean_max_heartrate</th>\n",
       "    </tr>\n",
       "  </thead>\n",
       "  <tbody>\n",
       "    <tr>\n",
       "      <th>0 days 00:00:01</th>\n",
       "      <td>1022.000000</td>\n",
       "      <td>190.000000</td>\n",
       "    </tr>\n",
       "    <tr>\n",
       "      <th>0 days 00:00:02</th>\n",
       "      <td>980.500000</td>\n",
       "      <td>190.000000</td>\n",
       "    </tr>\n",
       "    <tr>\n",
       "      <th>0 days 00:00:03</th>\n",
       "      <td>928.666667</td>\n",
       "      <td>190.000000</td>\n",
       "    </tr>\n",
       "    <tr>\n",
       "      <th>0 days 00:00:04</th>\n",
       "      <td>847.750000</td>\n",
       "      <td>190.000000</td>\n",
       "    </tr>\n",
       "    <tr>\n",
       "      <th>0 days 00:00:05</th>\n",
       "      <td>721.600000</td>\n",
       "      <td>190.000000</td>\n",
       "    </tr>\n",
       "    <tr>\n",
       "      <th>...</th>\n",
       "      <td>...</td>\n",
       "      <td>...</td>\n",
       "    </tr>\n",
       "    <tr>\n",
       "      <th>0 days 02:19:12</th>\n",
       "      <td>219.201748</td>\n",
       "      <td>164.746049</td>\n",
       "    </tr>\n",
       "    <tr>\n",
       "      <th>0 days 02:19:13</th>\n",
       "      <td>219.175506</td>\n",
       "      <td>164.738178</td>\n",
       "    </tr>\n",
       "    <tr>\n",
       "      <th>0 days 02:19:14</th>\n",
       "      <td>219.149270</td>\n",
       "      <td>164.730668</td>\n",
       "    </tr>\n",
       "    <tr>\n",
       "      <th>0 days 02:19:15</th>\n",
       "      <td>219.123040</td>\n",
       "      <td>164.723639</td>\n",
       "    </tr>\n",
       "    <tr>\n",
       "      <th>0 days 02:19:16</th>\n",
       "      <td>219.096817</td>\n",
       "      <td>164.716850</td>\n",
       "    </tr>\n",
       "  </tbody>\n",
       "</table>\n",
       "<p>8356 rows × 2 columns</p>\n",
       "</div>"
      ],
      "text/plain": [
       "                 mean_max_power  mean_max_heartrate\n",
       "0 days 00:00:01     1022.000000          190.000000\n",
       "0 days 00:00:02      980.500000          190.000000\n",
       "0 days 00:00:03      928.666667          190.000000\n",
       "0 days 00:00:04      847.750000          190.000000\n",
       "0 days 00:00:05      721.600000          190.000000\n",
       "...                         ...                 ...\n",
       "0 days 02:19:12      219.201748          164.746049\n",
       "0 days 02:19:13      219.175506          164.738178\n",
       "0 days 02:19:14      219.149270          164.730668\n",
       "0 days 02:19:15      219.123040          164.723639\n",
       "0 days 02:19:16      219.096817          164.716850\n",
       "\n",
       "[8356 rows x 2 columns]"
      ]
     },
     "execution_count": 2,
     "metadata": {},
     "output_type": "execute_result"
    }
   ],
   "source": [
    "import sweat\n",
    "\n",
    "example = sweat.examples(path=\"4078723797.fit\")\n",
    "data = sweat.read_fit(example.path)\n",
    "\n",
    "mean_max = data.sweat.mean_max([\"power\", \"heartrate\"])\n",
    "mean_max"
   ]
  },
  {
   "cell_type": "markdown",
   "metadata": {},
   "source": [
    "The `mean_max()` methods accept a `monotic` boolean argument that can be used to force a monotonically decreasing mean max curve. The default is `False`."
   ]
  },
  {
   "cell_type": "code",
   "execution_count": 1,
   "metadata": {},
   "outputs": [],
   "source": [
    "import sweat\n",
    "\n",
    "example = sweat.examples(path=\"4078723797.fit\")\n",
    "data = sweat.read_fit(example.path)\n",
    "\n",
    "mean_max = data.sweat.mean_max([\"power\", \"heartrate\"], monotonic=True)"
   ]
  },
  {
   "cell_type": "markdown",
   "metadata": {},
   "source": [
    "The `mean_max()` function is also available as `sweat.metrics.core.mean_max()`."
   ]
  },
  {
   "cell_type": "markdown",
   "metadata": {},
   "source": [
    "## Timedelta index"
   ]
  },
  {
   "cell_type": "markdown",
   "metadata": {},
   "source": [
    "The data frames returned by the `read_*()` functions have a [pandas.DatetimeIndex](https://pandas.pydata.org/pandas-docs/stable/reference/api/pandas.DatetimeIndex.html) by default.\n",
    "Sometimes it is usefull to have a relative [pandas.TimedeltaIndex](https://pandas.pydata.org/pandas-docs/stable/reference/api/pandas.TimedeltaIndex.html):"
   ]
  },
  {
   "cell_type": "code",
   "execution_count": 4,
   "metadata": {},
   "outputs": [
    {
     "data": {
      "text/html": [
       "<div>\n",
       "<style scoped>\n",
       "    .dataframe tbody tr th:only-of-type {\n",
       "        vertical-align: middle;\n",
       "    }\n",
       "\n",
       "    .dataframe tbody tr th {\n",
       "        vertical-align: top;\n",
       "    }\n",
       "\n",
       "    .dataframe thead th {\n",
       "        text-align: right;\n",
       "    }\n",
       "</style>\n",
       "<table border=\"1\" class=\"dataframe\">\n",
       "  <thead>\n",
       "    <tr style=\"text-align: right;\">\n",
       "      <th></th>\n",
       "      <th>power</th>\n",
       "      <th>heartrate</th>\n",
       "    </tr>\n",
       "    <tr>\n",
       "      <th>datetime</th>\n",
       "      <th></th>\n",
       "      <th></th>\n",
       "    </tr>\n",
       "  </thead>\n",
       "  <tbody>\n",
       "    <tr>\n",
       "      <th>00:00:00</th>\n",
       "      <td>0</td>\n",
       "      <td>111</td>\n",
       "    </tr>\n",
       "    <tr>\n",
       "      <th>00:00:01</th>\n",
       "      <td>0</td>\n",
       "      <td>108</td>\n",
       "    </tr>\n",
       "    <tr>\n",
       "      <th>00:00:02</th>\n",
       "      <td>0</td>\n",
       "      <td>106</td>\n",
       "    </tr>\n",
       "    <tr>\n",
       "      <th>00:00:03</th>\n",
       "      <td>0</td>\n",
       "      <td>102</td>\n",
       "    </tr>\n",
       "    <tr>\n",
       "      <th>00:00:04</th>\n",
       "      <td>0</td>\n",
       "      <td>99</td>\n",
       "    </tr>\n",
       "  </tbody>\n",
       "</table>\n",
       "</div>"
      ],
      "text/plain": [
       "          power  heartrate\n",
       "datetime                  \n",
       "00:00:00      0        111\n",
       "00:00:01      0        108\n",
       "00:00:02      0        106\n",
       "00:00:03      0        102\n",
       "00:00:04      0         99"
      ]
     },
     "execution_count": 4,
     "metadata": {},
     "output_type": "execute_result"
    }
   ],
   "source": [
    "import sweat\n",
    "\n",
    "example = sweat.examples(path=\"4078723797.fit\")\n",
    "activity = sweat.read_fit(example.path)[[\"power\", \"heartrate\"]]\n",
    "\n",
    "activity = activity.sweat.to_timedelta_index()\n",
    "activity.head()"
   ]
  },
  {
   "cell_type": "markdown",
   "metadata": {},
   "source": [
    "Then you can do things like slice for the first 10 seconds of an activity:"
   ]
  },
  {
   "cell_type": "code",
   "execution_count": 5,
   "metadata": {
    "scrolled": false
   },
   "outputs": [
    {
     "data": {
      "text/html": [
       "<div>\n",
       "<style scoped>\n",
       "    .dataframe tbody tr th:only-of-type {\n",
       "        vertical-align: middle;\n",
       "    }\n",
       "\n",
       "    .dataframe tbody tr th {\n",
       "        vertical-align: top;\n",
       "    }\n",
       "\n",
       "    .dataframe thead th {\n",
       "        text-align: right;\n",
       "    }\n",
       "</style>\n",
       "<table border=\"1\" class=\"dataframe\">\n",
       "  <thead>\n",
       "    <tr style=\"text-align: right;\">\n",
       "      <th></th>\n",
       "      <th>power</th>\n",
       "      <th>heartrate</th>\n",
       "    </tr>\n",
       "    <tr>\n",
       "      <th>datetime</th>\n",
       "      <th></th>\n",
       "      <th></th>\n",
       "    </tr>\n",
       "  </thead>\n",
       "  <tbody>\n",
       "    <tr>\n",
       "      <th>00:00:00</th>\n",
       "      <td>0</td>\n",
       "      <td>111</td>\n",
       "    </tr>\n",
       "    <tr>\n",
       "      <th>00:00:01</th>\n",
       "      <td>0</td>\n",
       "      <td>108</td>\n",
       "    </tr>\n",
       "    <tr>\n",
       "      <th>00:00:02</th>\n",
       "      <td>0</td>\n",
       "      <td>106</td>\n",
       "    </tr>\n",
       "    <tr>\n",
       "      <th>00:00:03</th>\n",
       "      <td>0</td>\n",
       "      <td>102</td>\n",
       "    </tr>\n",
       "    <tr>\n",
       "      <th>00:00:04</th>\n",
       "      <td>0</td>\n",
       "      <td>99</td>\n",
       "    </tr>\n",
       "    <tr>\n",
       "      <th>00:00:05</th>\n",
       "      <td>0</td>\n",
       "      <td>95</td>\n",
       "    </tr>\n",
       "    <tr>\n",
       "      <th>00:00:06</th>\n",
       "      <td>0</td>\n",
       "      <td>94</td>\n",
       "    </tr>\n",
       "    <tr>\n",
       "      <th>00:00:07</th>\n",
       "      <td>0</td>\n",
       "      <td>94</td>\n",
       "    </tr>\n",
       "    <tr>\n",
       "      <th>00:00:08</th>\n",
       "      <td>0</td>\n",
       "      <td>97</td>\n",
       "    </tr>\n",
       "    <tr>\n",
       "      <th>00:00:09</th>\n",
       "      <td>0</td>\n",
       "      <td>97</td>\n",
       "    </tr>\n",
       "    <tr>\n",
       "      <th>00:00:10</th>\n",
       "      <td>0</td>\n",
       "      <td>101</td>\n",
       "    </tr>\n",
       "  </tbody>\n",
       "</table>\n",
       "</div>"
      ],
      "text/plain": [
       "          power  heartrate\n",
       "datetime                  \n",
       "00:00:00      0        111\n",
       "00:00:01      0        108\n",
       "00:00:02      0        106\n",
       "00:00:03      0        102\n",
       "00:00:04      0         99\n",
       "00:00:05      0         95\n",
       "00:00:06      0         94\n",
       "00:00:07      0         94\n",
       "00:00:08      0         97\n",
       "00:00:09      0         97\n",
       "00:00:10      0        101"
      ]
     },
     "execution_count": 5,
     "metadata": {},
     "output_type": "execute_result"
    }
   ],
   "source": [
    "activity[:\"00:00:10\"]"
   ]
  },
  {
   "cell_type": "markdown",
   "metadata": {},
   "source": [
    "The `sweat.to_timedelta_index()` method is available on both data frames and series."
   ]
  },
  {
   "cell_type": "markdown",
   "metadata": {},
   "source": [
    "## Training zones\n",
    "\n",
    "Working with training zones is easy in Sweatpy. To add a column with the heart rate zone label to the data frame:"
   ]
  },
  {
   "cell_type": "code",
   "execution_count": 5,
   "metadata": {
    "scrolled": true
   },
   "outputs": [
    {
     "data": {
      "text/plain": [
       "datetime\n",
       "2019-09-20 14:10:03+00:00      D1\n",
       "2019-09-20 14:10:04+00:00      D1\n",
       "2019-09-20 14:10:05+00:00      D1\n",
       "2019-09-20 14:10:06+00:00      D1\n",
       "2019-09-20 14:10:07+00:00    rest\n",
       "Name: heartrate_zone, dtype: category\n",
       "Categories (4, object): [rest < D1 < D2 < D3]"
      ]
     },
     "execution_count": 5,
     "metadata": {},
     "output_type": "execute_result"
    }
   ],
   "source": [
    "import sweat\n",
    "\n",
    "example = sweat.examples(path=\"4078723797.fit\")\n",
    "activity = sweat.read_fit(example.path)[[\"power\", \"heartrate\"]]\n",
    "\n",
    "activity[\"heartrate_zone\"] = activity[\"heartrate\"].sweat.calculate_zones(\n",
    "    bins=[0, 100, 140, 160, 999],\n",
    "    labels=[\"rest\", \"D1\", \"D2\", \"D3\"])\n",
    "activity[\"heartrate_zone\"].head()"
   ]
  },
  {
   "cell_type": "markdown",
   "metadata": {},
   "source": [
    "...where the `bins` argument contains the left and right bounds for each training zone and the `labels` argument the zone labels."
   ]
  },
  {
   "cell_type": "markdown",
   "metadata": {},
   "source": [
    "To calculate the time in zone:"
   ]
  },
  {
   "cell_type": "code",
   "execution_count": 11,
   "metadata": {},
   "outputs": [
    {
     "data": {
      "text/plain": [
       "D2     00:58:06\n",
       "rest   00:36:25\n",
       "D3     00:25:40\n",
       "D1     00:19:06\n",
       "Name: power, dtype: timedelta64[ns]"
      ]
     },
     "execution_count": 11,
     "metadata": {},
     "output_type": "execute_result"
    }
   ],
   "source": [
    "import sweat\n",
    "\n",
    "example = sweat.examples(path=\"4078723797.fit\")\n",
    "activity = sweat.read_fit(example.path)[[\"power\", \"heartrate\"]]\n",
    "\n",
    "time_in_zone = activity[\"power\"].sweat.time_in_zone(\n",
    "    bins=[-9999, 150, 230, 320, 9999],\n",
    "    labels=[\"rest\", \"D1\", \"D2\", \"D3\"])\n",
    "time_in_zone"
   ]
  }
 ],
 "metadata": {
  "kernelspec": {
   "display_name": "Python 3",
   "language": "python",
   "name": "python3"
  },
  "language_info": {
   "codemirror_mode": {
    "name": "ipython",
    "version": 3
   },
   "file_extension": ".py",
   "mimetype": "text/x-python",
   "name": "python",
   "nbconvert_exporter": "python",
   "pygments_lexer": "ipython3",
   "version": "3.9.2"
  }
 },
 "nbformat": 4,
 "nbformat_minor": 4
}
